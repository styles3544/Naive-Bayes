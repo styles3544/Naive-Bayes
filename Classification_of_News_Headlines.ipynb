{
  "nbformat": 4,
  "nbformat_minor": 0,
  "metadata": {
    "colab": {
      "name": "Classification of News Headlines.ipynb",
      "provenance": []
    },
    "kernelspec": {
      "name": "python3",
      "display_name": "Python 3"
    },
    "language_info": {
      "name": "python"
    }
  },
  "cells": [
    {
      "cell_type": "markdown",
      "metadata": {
        "id": "ZbujBjbXYQ2A"
      },
      "source": [
        "#***Classification of News Headlines using SkLearn Dataset fetch_20newsgroup***\n",
        "## **Imporing Libraries**"
      ]
    },
    {
      "cell_type": "code",
      "metadata": {
        "id": "MDiCJUBCIrL6"
      },
      "source": [
        "# Importing necessary libraries\n",
        "\n",
        "import matplotlib.pyplot as plt\n",
        "import numpy as np\n",
        "import pandas as pd\n",
        "from sklearn.datasets import fetch_20newsgroups\n",
        "import seaborn as sns; sns.set()"
      ],
      "execution_count": 1,
      "outputs": []
    },
    {
      "cell_type": "markdown",
      "metadata": {
        "id": "L2cnVj9-YKIj"
      },
      "source": [
        "## **Categories we have in dataset**"
      ]
    },
    {
      "cell_type": "code",
      "metadata": {
        "colab": {
          "base_uri": "https://localhost:8080/"
        },
        "id": "dWdTFLoPJpTR",
        "outputId": "24754f0d-d3a7-421d-fd3f-bff12b1a569a"
      },
      "source": [
        "# Getting the data\n",
        "\n",
        "data = fetch_20newsgroups()\n",
        "\n",
        "# Categories of news\n",
        "\n",
        "data.target_names"
      ],
      "execution_count": 2,
      "outputs": [
        {
          "output_type": "execute_result",
          "data": {
            "text/plain": [
              "['alt.atheism',\n",
              " 'comp.graphics',\n",
              " 'comp.os.ms-windows.misc',\n",
              " 'comp.sys.ibm.pc.hardware',\n",
              " 'comp.sys.mac.hardware',\n",
              " 'comp.windows.x',\n",
              " 'misc.forsale',\n",
              " 'rec.autos',\n",
              " 'rec.motorcycles',\n",
              " 'rec.sport.baseball',\n",
              " 'rec.sport.hockey',\n",
              " 'sci.crypt',\n",
              " 'sci.electronics',\n",
              " 'sci.med',\n",
              " 'sci.space',\n",
              " 'soc.religion.christian',\n",
              " 'talk.politics.guns',\n",
              " 'talk.politics.mideast',\n",
              " 'talk.politics.misc',\n",
              " 'talk.religion.misc']"
            ]
          },
          "metadata": {},
          "execution_count": 2
        }
      ]
    },
    {
      "cell_type": "code",
      "metadata": {
        "id": "ors0amNOKAXM"
      },
      "source": [
        "# Setting the categories\n",
        "\n",
        "catg = ['alt.atheism',\n",
        " 'comp.graphics',\n",
        " 'comp.os.ms-windows.misc',\n",
        " 'comp.sys.ibm.pc.hardware',\n",
        " 'comp.sys.mac.hardware',\n",
        " 'comp.windows.x',\n",
        " 'misc.forsale',\n",
        " 'rec.autos',\n",
        " 'rec.motorcycles',\n",
        " 'rec.sport.baseball',\n",
        " 'rec.sport.hockey',\n",
        " 'sci.crypt',\n",
        " 'sci.electronics',\n",
        " 'sci.med',\n",
        " 'sci.space',\n",
        " 'soc.religion.christian',\n",
        " 'talk.politics.guns',\n",
        " 'talk.politics.mideast',\n",
        " 'talk.politics.misc',\n",
        " 'talk.religion.misc']\n",
        "\n",
        " # Splitting data into training and testing\n",
        "\n",
        "features_train = fetch_20newsgroups(subset='train', categories=catg)\n",
        "features_test = fetch_20newsgroups(subset='test', categories=catg)"
      ],
      "execution_count": 3,
      "outputs": []
    },
    {
      "cell_type": "markdown",
      "metadata": {
        "id": "tWu0YqHoYAzB"
      },
      "source": [
        "## **View of the dataset**"
      ]
    },
    {
      "cell_type": "code",
      "metadata": {
        "colab": {
          "base_uri": "https://localhost:8080/"
        },
        "id": "2ehDdcA-KBwT",
        "outputId": "952547fc-37b0-408e-8440-5c54b122cf0d"
      },
      "source": [
        "# Printing any data from features_train\n",
        "\n",
        "print(type(features_train.data))\n",
        "print(features_train.data[0])"
      ],
      "execution_count": 7,
      "outputs": [
        {
          "output_type": "stream",
          "name": "stdout",
          "text": [
            "<class 'list'>\n",
            "From: lerxst@wam.umd.edu (where's my thing)\n",
            "Subject: WHAT car is this!?\n",
            "Nntp-Posting-Host: rac3.wam.umd.edu\n",
            "Organization: University of Maryland, College Park\n",
            "Lines: 15\n",
            "\n",
            " I was wondering if anyone out there could enlighten me on this car I saw\n",
            "the other day. It was a 2-door sports car, looked to be from the late 60s/\n",
            "early 70s. It was called a Bricklin. The doors were really small. In addition,\n",
            "the front bumper was separate from the rest of the body. This is \n",
            "all I know. If anyone can tellme a model name, engine specs, years\n",
            "of production, where this car is made, history, or whatever info you\n",
            "have on this funky looking car, please e-mail.\n",
            "\n",
            "Thanks,\n",
            "- IL\n",
            "   ---- brought to you by your neighborhood Lerxst ----\n",
            "\n",
            "\n",
            "\n",
            "\n",
            "\n"
          ]
        }
      ]
    },
    {
      "cell_type": "code",
      "metadata": {
        "colab": {
          "base_uri": "https://localhost:8080/"
        },
        "id": "7wHYQRyfKB4A",
        "outputId": "e7d3bcb6-0518-4626-9ab0-d2c974bfff0b"
      },
      "source": [
        "# Printing any data from features_test\n",
        "\n",
        "print(features_test.data[0])"
      ],
      "execution_count": 8,
      "outputs": [
        {
          "output_type": "stream",
          "name": "stdout",
          "text": [
            "From: v064mb9k@ubvmsd.cc.buffalo.edu (NEIL B. GANDLER)\n",
            "Subject: Need info on 88-89 Bonneville\n",
            "Organization: University at Buffalo\n",
            "Lines: 10\n",
            "News-Software: VAX/VMS VNEWS 1.41\n",
            "Nntp-Posting-Host: ubvmsd.cc.buffalo.edu\n",
            "\n",
            "\n",
            " I am a little confused on all of the models of the 88-89 bonnevilles.\n",
            "I have heard of the LE SE LSE SSE SSEI. Could someone tell me the\n",
            "differences are far as features or performance. I am also curious to\n",
            "know what the book value is for prefereably the 89 model. And how much\n",
            "less than book value can you usually get them for. In other words how\n",
            "much are they in demand this time of year. I have heard that the mid-spring\n",
            "early summer is the best time to buy.\n",
            "\n",
            "\t\t\tNeil Gandler\n",
            "\n"
          ]
        }
      ]
    },
    {
      "cell_type": "code",
      "metadata": {
        "colab": {
          "base_uri": "https://localhost:8080/"
        },
        "id": "xbieLIB9KB8o",
        "outputId": "e301097a-54e5-4eee-fb9f-b7b99b8ecd53"
      },
      "source": [
        "# Number of training and testing data\n",
        "\n",
        "print(len(features_train.data))\n",
        "print(len(features_test.data))"
      ],
      "execution_count": 9,
      "outputs": [
        {
          "output_type": "stream",
          "name": "stdout",
          "text": [
            "11314\n",
            "7532\n"
          ]
        }
      ]
    },
    {
      "cell_type": "markdown",
      "metadata": {
        "id": "iYp1xCgTXrRt"
      },
      "source": [
        "# **Finding weights for different words in the document and training the model using TfidVectorizer and classifying using Naive Bayes**"
      ]
    },
    {
      "cell_type": "code",
      "metadata": {
        "id": "K5aFgt-LM_9g"
      },
      "source": [
        "# Finding weights for different words in the document and training the model \n",
        "\n",
        "from sklearn.feature_extraction.text import TfidfVectorizer\n",
        "from sklearn.naive_bayes import MultinomialNB\n",
        "from sklearn.pipeline import make_pipeline\n",
        "\n",
        "# Making classifier using Multinomial NB\n",
        "clf = make_pipeline(TfidfVectorizer(), MultinomialNB())\n",
        "\n",
        "clf.fit(features_train.data, features_train.target)\n",
        "\n",
        "preds = clf.predict(features_test.data)"
      ],
      "execution_count": 10,
      "outputs": []
    },
    {
      "cell_type": "markdown",
      "metadata": {
        "id": "1nn-biy_XkCU"
      },
      "source": [
        "# **Visualizing he results using seaborn heatmap using confusion matrix**"
      ]
    },
    {
      "cell_type": "code",
      "metadata": {
        "colab": {
          "base_uri": "https://localhost:8080/",
          "height": 423
        },
        "id": "Qw7vkmhINAAT",
        "outputId": "388e1ea1-0eba-4bf2-c8f3-cb48c1afe76a"
      },
      "source": [
        "# Visualizing he results using seaborn heatmap using confusion matrix\n",
        "%matplotlib inline\n",
        "# Creating confusion matrix\n",
        "from sklearn.metrics import  confusion_matrix\n",
        "mat = confusion_matrix(features_test.target, preds)\n",
        "\n",
        "# Plotting confusion matrix using seaborn\n",
        "sns.heatmap(mat.T, annot=True, fmt='d', cbar=True,\n",
        "            xticklabels = features_train.target_names,\n",
        "            yticklabels=features_train.target_names)\n",
        "\n",
        "plt.xlabel('true labels');\n",
        "plt.ylabel('preds labels');"
      ],
      "execution_count": 16,
      "outputs": [
        {
          "output_type": "display_data",
          "data": {
            "image/png": "[encoded data removed]",
            "text/plain": [
              "<Figure size 432x288 with 2 Axes>"
            ]
          },
          "metadata": {
            "needs_background": "light"
          }
        }
      ]
    },
    {
      "cell_type": "markdown",
      "metadata": {
        "id": "90tLYGHlXG11"
      },
      "source": [
        "# **Predicting On New Data**"
      ]
    },
    {
      "cell_type": "code",
      "metadata": {
        "id": "FvDN51PpNACs"
      },
      "source": [
        "# Creating a function for predicting on new data\n",
        "\n",
        "def predict_category(str):\n",
        "  prediction = clf.predict([str])\n",
        "  return catg[prediction[0]]"
      ],
      "execution_count": 27,
      "outputs": []
    },
    {
      "cell_type": "code",
      "metadata": {
        "colab": {
          "base_uri": "https://localhost:8080/",
          "height": 35
        },
        "id": "2T7TU35mNAFo",
        "outputId": "e64d13d9-b57a-4cbb-e047-9529de34a5da"
      },
      "source": [
        "predict_category('Jesus Christ')"
      ],
      "execution_count": 18,
      "outputs": [
        {
          "output_type": "execute_result",
          "data": {
            "application/vnd.google.colaboratory.intrinsic+json": {
              "type": "string"
            },
            "text/plain": [
              "'soc.religion.christian'"
            ]
          },
          "metadata": {},
          "execution_count": 18
        }
      ]
    },
    {
      "cell_type": "code",
      "metadata": {
        "colab": {
          "base_uri": "https://localhost:8080/",
          "height": 35
        },
        "id": "1UT5Bm5MNAHt",
        "outputId": "9e1c0aa4-6429-4cc1-e384-8a0f4bef92cb"
      },
      "source": [
        "predict_category('Farrari is pritter than Audi')"
      ],
      "execution_count": 20,
      "outputs": [
        {
          "output_type": "execute_result",
          "data": {
            "application/vnd.google.colaboratory.intrinsic+json": {
              "type": "string"
            },
            "text/plain": [
              "'rec.autos'"
            ]
          },
          "metadata": {},
          "execution_count": 20
        }
      ]
    },
    {
      "cell_type": "code",
      "metadata": {
        "colab": {
          "base_uri": "https://localhost:8080/",
          "height": 35
        },
        "id": "W_0onygZVqz2",
        "outputId": "03073215-2ceb-4a4e-e775-5a4058779882"
      },
      "source": [
        "predict_category('Laxmi is goddess of India')"
      ],
      "execution_count": 21,
      "outputs": [
        {
          "output_type": "execute_result",
          "data": {
            "application/vnd.google.colaboratory.intrinsic+json": {
              "type": "string"
            },
            "text/plain": [
              "'soc.religion.christian'"
            ]
          },
          "metadata": {},
          "execution_count": 21
        }
      ]
    },
    {
      "cell_type": "code",
      "metadata": {
        "colab": {
          "base_uri": "https://localhost:8080/",
          "height": 35
        },
        "id": "BQQ6-HhGVq2S",
        "outputId": "6a0f8f00-0007-432a-c06d-1da1874b4106"
      },
      "source": [
        "predict_category('Moon is Earth\\'s natural satellite')"
      ],
      "execution_count": 22,
      "outputs": [
        {
          "output_type": "execute_result",
          "data": {
            "application/vnd.google.colaboratory.intrinsic+json": {
              "type": "string"
            },
            "text/plain": [
              "'sci.space'"
            ]
          },
          "metadata": {},
          "execution_count": 22
        }
      ]
    },
    {
      "cell_type": "code",
      "metadata": {
        "colab": {
          "base_uri": "https://localhost:8080/",
          "height": 35
        },
        "id": "5BPFblbUVrWy",
        "outputId": "24b54100-92bd-4bab-f61c-49cd1c319a69"
      },
      "source": [
        "predict_category('Narendra Modi is the prime minister of India')"
      ],
      "execution_count": 25,
      "outputs": [
        {
          "output_type": "execute_result",
          "data": {
            "application/vnd.google.colaboratory.intrinsic+json": {
              "type": "string"
            },
            "text/plain": [
              "'talk.politics.mideast'"
            ]
          },
          "metadata": {},
          "execution_count": 25
        }
      ]
    },
    {
      "cell_type": "code",
      "metadata": {
        "colab": {
          "base_uri": "https://localhost:8080/",
          "height": 35
        },
        "id": "g2_733tIVrZR",
        "outputId": "93e77235-35f2-4c88-bc69-bd0e87b287eb"
      },
      "source": [
        "predict_category('You might need to visit a doctor')"
      ],
      "execution_count": 26,
      "outputs": [
        {
          "output_type": "execute_result",
          "data": {
            "application/vnd.google.colaboratory.intrinsic+json": {
              "type": "string"
            },
            "text/plain": [
              "'sci.med'"
            ]
          },
          "metadata": {},
          "execution_count": 26
        }
      ]
    }
  ]
}